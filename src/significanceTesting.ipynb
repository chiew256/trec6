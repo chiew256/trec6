{
 "cells": [
  {
   "cell_type": "code",
   "execution_count": 1,
   "id": "01cc64eb",
   "metadata": {},
   "outputs": [
    {
     "name": "stdout",
     "output_type": "stream",
     "text": [
      "Requirement already satisfied: pandas in /Library/Frameworks/Python.framework/Versions/3.11/lib/python3.11/site-packages (2.0.2)\n",
      "Requirement already satisfied: python-dateutil>=2.8.2 in /Library/Frameworks/Python.framework/Versions/3.11/lib/python3.11/site-packages (from pandas) (2.8.2)\n",
      "Requirement already satisfied: pytz>=2020.1 in /Library/Frameworks/Python.framework/Versions/3.11/lib/python3.11/site-packages (from pandas) (2023.3)\n",
      "Requirement already satisfied: tzdata>=2022.1 in /Library/Frameworks/Python.framework/Versions/3.11/lib/python3.11/site-packages (from pandas) (2023.3)\n",
      "Requirement already satisfied: numpy>=1.21.0 in /Library/Frameworks/Python.framework/Versions/3.11/lib/python3.11/site-packages (from pandas) (1.24.3)\n",
      "Requirement already satisfied: six>=1.5 in /Library/Frameworks/Python.framework/Versions/3.11/lib/python3.11/site-packages (from python-dateutil>=2.8.2->pandas) (1.16.0)\n",
      "\n",
      "\u001b[1m[\u001b[0m\u001b[34;49mnotice\u001b[0m\u001b[1;39;49m]\u001b[0m\u001b[39;49m A new release of pip available: \u001b[0m\u001b[31;49m22.3.1\u001b[0m\u001b[39;49m -> \u001b[0m\u001b[32;49m23.1.2\u001b[0m\n",
      "\u001b[1m[\u001b[0m\u001b[34;49mnotice\u001b[0m\u001b[1;39;49m]\u001b[0m\u001b[39;49m To update, run: \u001b[0m\u001b[32;49mpip3 install --upgrade pip\u001b[0m\n",
      "Requirement already satisfied: scipy in /Library/Frameworks/Python.framework/Versions/3.11/lib/python3.11/site-packages (1.10.1)\n",
      "Requirement already satisfied: numpy<1.27.0,>=1.19.5 in /Library/Frameworks/Python.framework/Versions/3.11/lib/python3.11/site-packages (from scipy) (1.24.3)\n",
      "\n",
      "\u001b[1m[\u001b[0m\u001b[34;49mnotice\u001b[0m\u001b[1;39;49m]\u001b[0m\u001b[39;49m A new release of pip available: \u001b[0m\u001b[31;49m22.3.1\u001b[0m\u001b[39;49m -> \u001b[0m\u001b[32;49m23.1.2\u001b[0m\n",
      "\u001b[1m[\u001b[0m\u001b[34;49mnotice\u001b[0m\u001b[1;39;49m]\u001b[0m\u001b[39;49m To update, run: \u001b[0m\u001b[32;49mpip3 install --upgrade pip\u001b[0m\n"
     ]
    }
   ],
   "source": [
    "# Dependencies\n",
    "!pip3 install pandas\n",
    "!pip3 install scipy\n",
    "from scipy.stats import ttest_ind\n",
    "import pandas as pd\n",
    "import numpy as np\n",
    "import glob"
   ]
  },
  {
   "cell_type": "code",
   "execution_count": 2,
   "id": "8a5af64e",
   "metadata": {},
   "outputs": [],
   "source": [
    "# Read map .csv files\n",
    "mapDepthWith5FilePath = '../outputs/map@5.csv'\n",
    "map_depth_with_5_df = pd.read_csv(mapDepthWith5FilePath)\n",
    "\n",
    "mapDepthWith10FilePath = '../outputs/map@10.csv'\n",
    "map_depth_with_10_df = pd.read_csv(mapDepthWith10FilePath)\n",
    "\n",
    "mapDepthWith20FilePath = '../outputs/map@20.csv'\n",
    "map_depth_with_20_df = pd.read_csv(mapDepthWith20FilePath)"
   ]
  },
  {
   "cell_type": "code",
   "execution_count": 3,
   "id": "a4af7fbd",
   "metadata": {},
   "outputs": [],
   "source": [
    "# Filtering\n",
    "\n",
    "aps_with_depth_5 = map_depth_with_5_df.iloc[0:-1, 1:-1]\n",
    "aps_with_depth_10 = map_depth_with_10_df.iloc[0:-1, 1:-1]\n",
    "aps_with_depth_20 = map_depth_with_20_df.iloc[0:-1, 1:-1]"
   ]
  },
  {
   "cell_type": "code",
   "execution_count": 10,
   "id": "14de47e4",
   "metadata": {},
   "outputs": [
    {
     "name": "stdout",
     "output_type": "stream",
     "text": [
      "Depth 5: Number of significant differences = 90 out of 210 system comparisons\n",
      "Depth 10: Number of significant differences = 88 out of 210 system comparisons\n",
      "Depth 20: Number of significant differences = 86 out of 210 system comparisons\n"
     ]
    }
   ],
   "source": [
    "significance_level = 0.05\n",
    "dfs = [aps_with_depth_5, aps_with_depth_10, aps_with_depth_20]\n",
    "depth_values = [5, 10, 20]\n",
    "\n",
    "for i, df in enumerate(dfs):\n",
    "    depth = depth_values[i]\n",
    "    \n",
    "    columns = df.columns\n",
    "    system_name_list = columns\n",
    "    num_columns = len(columns)\n",
    "    significant_results = [[None] * num_columns for _ in range(num_columns)]\n",
    "    significant_count = 0  # Counter for significant differences\n",
    "\n",
    "    \n",
    "    # Calculate the total number of system comparisons\n",
    "    total_comparisons = num_columns * (num_columns - 1)\n",
    "\n",
    "    for i in range(num_columns):\n",
    "        col1 = columns[i]\n",
    "\n",
    "        # Compare col1 with every other column\n",
    "        for j in range(num_columns):\n",
    "            if i == j:  # Skip self-comparisons\n",
    "                significant_results[i][j] = (None, None)\n",
    "            else:\n",
    "                t_statistic, p_value = ttest_ind(df.iloc[:, i], df.iloc[:, j])\n",
    "                is_significant_different = p_value <= significance_level\n",
    "                significant_results[i][j] = (p_value, is_significant_different)\n",
    "\n",
    "                if is_significant_different:\n",
    "                    significant_count += 1\n",
    "\n",
    "    # Create a DataFrame with the results\n",
    "    significant_df = pd.DataFrame(significant_results, index=system_name_list, columns=system_name_list)\n",
    "\n",
    "    # Save the DataFrame to a CSV file\n",
    "    output_file = f\"../outputs/test_map_depth_{depth}.csv\"\n",
    "    significant_df.to_csv(output_file)\n",
    "    \n",
    "    # Output the count of significant differences and total comparisons\n",
    "    print(f\"Depth {depth}: Number of significant differences = {significant_count} out of {total_comparisons} system comparisons\")"
   ]
  }
 ],
 "metadata": {
  "kernelspec": {
   "display_name": "Python 3 (ipykernel)",
   "language": "python",
   "name": "python3"
  },
  "language_info": {
   "codemirror_mode": {
    "name": "ipython",
    "version": 3
   },
   "file_extension": ".py",
   "mimetype": "text/x-python",
   "name": "python",
   "nbconvert_exporter": "python",
   "pygments_lexer": "ipython3",
   "version": "3.11.3"
  }
 },
 "nbformat": 4,
 "nbformat_minor": 5
}
