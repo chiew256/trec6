{
 "cells": [
  {
   "cell_type": "code",
   "execution_count": 1,
   "id": "a1c068c4",
   "metadata": {},
   "outputs": [
    {
     "name": "stdout",
     "output_type": "stream",
     "text": [
      "zsh:1: /opt/homebrew/bin/pip: bad interpreter: /opt/homebrew/opt/python@3.9/bin/python3.9: no such file or directory\r\n"
     ]
    }
   ],
   "source": [
    "# Dependencies\n",
    "!pip install pandas\n",
    "import pandas as pd\n",
    "import numpy as np\n",
    "import glob"
   ]
  },
  {
   "cell_type": "code",
   "execution_count": 2,
   "id": "73c3b6f8",
   "metadata": {},
   "outputs": [],
   "source": [
    "# Load the qrels file\n",
    "qrels_file_path = '../qrels.trec8.adhoc.csv'\n",
    "qrels_df = pd.read_csv(qrels_file_path, sep=' ', header=None, names=['query_id', 'ignore', 'doc_id', 'is_relevant'])"
   ]
  },
  {
   "cell_type": "code",
   "execution_count": 3,
   "id": "e0cd775e",
   "metadata": {},
   "outputs": [],
   "source": [
    "# Load input files\n",
    "input_files = glob.glob('../inputs/*.csv')\n",
    "\n",
    "# Create an empty list to store the input files dataframes\n",
    "input_dfs = []\n",
    "\n",
    "# Loop through each input CSV file\n",
    "for filename in input_files:\n",
    "    # Read the input CSV file into a dataframe\n",
    "    df = pd.read_csv(filename, sep='\\t', header=None)\n",
    "    # Append the dataframe to the list of dataframes\n",
    "    input_dfs.append(df)\n",
    "    \n",
    "raw_data = pd.concat(input_dfs, ignore_index=True)"
   ]
  },
  {
   "cell_type": "code",
   "execution_count": 4,
   "id": "731c23d7",
   "metadata": {},
   "outputs": [],
   "source": [
    "# Name input dataframe column name\n",
    "columns = ['query_id', 'ignore', 'doc_id', 'rank', 'score', 'system_name']\n",
    "\n",
    "# Create an empty list to store the cleaned dataframes\n",
    "cleaned_dfs_with_names = []\n",
    "\n",
    "# Iterate over each cleaned dataframe in cleaned_dfs\n",
    "for df in input_dfs:\n",
    "    # Rename the columns\n",
    "    df = df.rename(columns=dict(enumerate(columns)))\n",
    "    # Append the renamed dataframe to the new list\n",
    "    cleaned_dfs_with_names.append(df)"
   ]
  },
  {
   "cell_type": "code",
   "execution_count": 5,
   "id": "0641db58",
   "metadata": {},
   "outputs": [],
   "source": [
    "# Merge qrels and input dataframe\n",
    "merged_df = []\n",
    "for df in cleaned_dfs_with_names:\n",
    "    cleaned_df_with_qrel = pd.merge(df, qrels_df, on=['query_id','doc_id'], how='left')\n",
    "    cleaned_df_with_qrel['is_relevant'] = cleaned_df_with_qrel['is_relevant'].fillna(0)\n",
    "    merged_df.append(cleaned_df_with_qrel)"
   ]
  },
  {
   "cell_type": "code",
   "execution_count": 6,
   "id": "5c20ef78",
   "metadata": {},
   "outputs": [],
   "source": [
    "# Top Precision Calculation\n",
    "top_10_precisions = []\n",
    "top_100_precisions = []\n",
    "\n",
    "def calculate_precision_k(x, k):\n",
    "    return np.sum(x['is_relevant'].head(k) == 1) / k\n",
    "\n",
    "for index, df in enumerate(merged_df):\n",
    "    # group by query_id\n",
    "    grouped = df.groupby('query_id')\n",
    "\n",
    "    # calculate precision for top 10 and top 100\n",
    "    precision_10 = grouped.apply(lambda x: calculate_precision_k(x, 10))\n",
    "    precision_100 = grouped.apply(lambda x: calculate_precision_k(x, 100))\n",
    "\n",
    "    top_10_precisions.append(precision_10)\n",
    "    top_100_precisions.append(precision_100)\n"
   ]
  },
  {
   "cell_type": "code",
   "execution_count": 7,
   "id": "d0bcd005",
   "metadata": {},
   "outputs": [],
   "source": [
    "# Define system name\n",
    "column_names = [df['system_name'].iloc[0] for df in merged_df]\n",
    "\n",
    "precision10_results_df = pd.concat([pd.DataFrame(top_10_precisions).T],  axis=1)\n",
    "precision10_results_df.columns = [name for i, name in enumerate(column_names)]\n",
    "\n",
    "precision100_results_df = pd.concat([pd.DataFrame(top_100_precisions).T],  axis=1)\n",
    "precision100_results_df.columns = [name for i, name in enumerate(column_names)]"
   ]
  },
  {
   "cell_type": "code",
   "execution_count": 8,
   "id": "5e07eb76",
   "metadata": {},
   "outputs": [],
   "source": [
    "### Calculate overall value\n",
    "\n",
    "# Calculate the overall precision@10 by topic\n",
    "overall_precision_by_topic_10 = precision10_results_df.mean(axis=1)\n",
    "precision10_results_df['Overall (Topic)'] = overall_precision_by_topic_10\n",
    "\n",
    "overall_precision_by_topic_100 = precision100_results_df.mean(axis=1)\n",
    "precision100_results_df['Overall (Topic)'] = overall_precision_by_topic_100\n",
    "\n",
    "# Calculate the overall precision@10 by system\n",
    "overall_precision_by_system_10 = precision10_results_df.mean(axis=0)\n",
    "precision10_results_df.loc[\"Overall (System)\"] = overall_precision_by_system_10\n",
    "\n",
    "overall_precision_by_system_100 = precision100_results_df.mean(axis=0)\n",
    "precision100_results_df.loc[\"Overall (System)\"] = overall_precision_by_system_100\n",
    "\n",
    "# Store\n",
    "precision10_results_df.to_csv('../outputs/topPrecision@10.csv')\n",
    "precision100_results_df.to_csv('../outputs/topPrecision@100.csv')"
   ]
  }
 ],
 "metadata": {
  "kernelspec": {
   "display_name": "Python 3 (ipykernel)",
   "language": "python",
   "name": "python3"
  },
  "language_info": {
   "codemirror_mode": {
    "name": "ipython",
    "version": 3
   },
   "file_extension": ".py",
   "mimetype": "text/x-python",
   "name": "python",
   "nbconvert_exporter": "python",
   "pygments_lexer": "ipython3",
   "version": "3.10.9"
  }
 },
 "nbformat": 4,
 "nbformat_minor": 5
}
