{
 "cells": [
  {
   "cell_type": "code",
   "execution_count": 1,
   "id": "01cc64eb",
   "metadata": {},
   "outputs": [
    {
     "name": "stdout",
     "output_type": "stream",
     "text": [
      "zsh:1: /opt/homebrew/bin/pip: bad interpreter: /opt/homebrew/opt/python@3.9/bin/python3.9: no such file or directory\r\n"
     ]
    }
   ],
   "source": [
    "# Dependencies\n",
    "!pip install pandas\n",
    "import pandas as pd\n",
    "import numpy as np\n",
    "import glob"
   ]
  },
  {
   "cell_type": "code",
   "execution_count": 2,
   "id": "8a5af64e",
   "metadata": {},
   "outputs": [],
   "source": [
    "# Read top precision .csv files\n",
    "topPrecision10FilePath = '../outputs/topPrecision@10.csv'\n",
    "top_precision_10_df = pd.read_csv(topPrecision10FilePath)\n",
    "\n",
    "topPrecision100FilePath = '../outputs/topPrecision@100.csv'\n",
    "top_precision_100_df = pd.read_csv(topPrecision100FilePath)\n",
    "\n",
    "# Read map .csv files\n",
    "mapDepthWith100FilePath = '../outputs/map@100.csv'\n",
    "map_depth_with_100_df = pd.read_csv(mapDepthWith100FilePath)"
   ]
  },
  {
   "cell_type": "code",
   "execution_count": 3,
   "id": "a4af7fbd",
   "metadata": {},
   "outputs": [],
   "source": [
    "# Filtering\n",
    "\n",
    "top_precision_10_system_scores = top_precision_10_df.iloc[-1, 1:].values.astype(float)\n",
    "top_precision_100_system_scores = top_precision_100_df.iloc[-1, 1:].values.astype(float)\n",
    "\n",
    "map_with_depth_100_system_scores = map_depth_with_100_df.iloc[-1, 1:].values.astype(float)"
   ]
  },
  {
   "cell_type": "code",
   "execution_count": 7,
   "id": "14de47e4",
   "metadata": {},
   "outputs": [
    {
     "name": "stdout",
     "output_type": "stream",
     "text": [
      "The correlation coefficient indicates the strength and direction of the linear relationship between precision@10 and MAP values.\n",
      "A value close to 1 suggests a strong positive correlation, while a value close to -1 suggests a strong negative correlation.\n",
      "A value close to 0 indicates a weak or no correlation between the two variables.\n",
      "\n",
      "\n",
      "Top Precision: 10\n",
      "Map Depth: 100\n",
      "Correlation Coefficient: 0.99\n",
      "-----\n",
      "\n",
      "\n",
      "Top Precision: 10\n",
      "Top Precision: 100\n",
      "Correlation Coefficient: 0.99\n",
      "-----\n",
      "\n",
      "\n",
      "Map Depth: 100\n",
      "Top Precision: 100\n",
      "Correlation Coefficient: 0.96\n",
      "-----\n",
      "\n",
      "\n"
     ]
    }
   ],
   "source": [
    "# Calculation\n",
    "\n",
    "top_precision_scores = [top_precision_10_system_scores, top_precision_100_system_scores]\n",
    "map_with_depth_scores = [map_with_depth_100_system_scores]\n",
    "\n",
    "print(\"The correlation coefficient indicates the strength and direction of the linear relationship between precision@10 and MAP values.\")\n",
    "print(\"A value close to 1 suggests a strong positive correlation, while a value close to -1 suggests a strong negative correlation.\")\n",
    "print(\"A value close to 0 indicates a weak or no correlation between the two variables.\\n\\n\")\n",
    "\n",
    "print(\"Top Precision: 10\")\n",
    "print(\"Map Depth: 100\")\n",
    "correlation_coefficient_p_10_ap_100 = np.corrcoef(top_precision_10_system_scores, map_with_depth_100_system_scores)[0, 1]\n",
    "print(\"Correlation Coefficient: {:.2f}\".format(correlation_coefficient_p_10_ap_100))\n",
    "print(\"-----\")\n",
    "print(\"\\n\")\n",
    "\n",
    "print(\"Top Precision: 10\")\n",
    "print(\"Top Precision: 100\")\n",
    "correlation_coefficient_p_10_p_100 = np.corrcoef(top_precision_10_system_scores, top_precision_100_system_scores)[0, 1]\n",
    "print(\"Correlation Coefficient: {:.2f}\".format(correlation_coefficient_p_10_p_100))\n",
    "print(\"-----\")\n",
    "print(\"\\n\")\n",
    "\n",
    "print(\"Map Depth: 100\")\n",
    "print(\"Top Precision: 100\")\n",
    "correlation_coefficient_ap_100_p_100 = np.corrcoef(map_with_depth_100_system_scores, top_precision_100_system_scores)[0, 1]\n",
    "print(\"Correlation Coefficient: {:.2f}\".format(correlation_coefficient_ap_100_p_100))\n",
    "print(\"-----\")\n",
    "print(\"\\n\")\n"
   ]
  }
 ],
 "metadata": {
  "kernelspec": {
   "display_name": "Python 3 (ipykernel)",
   "language": "python",
   "name": "python3"
  },
  "language_info": {
   "codemirror_mode": {
    "name": "ipython",
    "version": 3
   },
   "file_extension": ".py",
   "mimetype": "text/x-python",
   "name": "python",
   "nbconvert_exporter": "python",
   "pygments_lexer": "ipython3",
   "version": "3.10.9"
  }
 },
 "nbformat": 4,
 "nbformat_minor": 5
}
