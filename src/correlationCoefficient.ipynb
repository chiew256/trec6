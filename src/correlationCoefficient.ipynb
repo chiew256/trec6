{
 "cells": [
  {
   "cell_type": "code",
   "execution_count": 1,
   "id": "01cc64eb",
   "metadata": {},
   "outputs": [
    {
     "name": "stdout",
     "output_type": "stream",
     "text": [
      "zsh:1: /opt/homebrew/bin/pip: bad interpreter: /opt/homebrew/opt/python@3.9/bin/python3.9: no such file or directory\r\n"
     ]
    }
   ],
   "source": [
    "# Dependencies\n",
    "!pip install pandas\n",
    "import pandas as pd\n",
    "import numpy as np\n",
    "import glob"
   ]
  },
  {
   "cell_type": "code",
   "execution_count": 2,
   "id": "8a5af64e",
   "metadata": {},
   "outputs": [],
   "source": [
    "# Read top precision .csv files\n",
    "topPrecision5FilePath = '../outputs/topPrecision@5.csv'\n",
    "top_precision_5_df = pd.read_csv(topPrecision5FilePath)\n",
    "\n",
    "topPrecision10FilePath = '../outputs/topPrecision@10.csv'\n",
    "top_precision_10_df = pd.read_csv(topPrecision10FilePath)\n",
    "\n",
    "topPrecision20FilePath = '../outputs/topPrecision@20.csv'\n",
    "top_precision_20_df = pd.read_csv(topPrecision20FilePath)\n",
    "\n",
    "# Read map .csv files\n",
    "mapDepthWith5FilePath = '../outputs/map@5.csv'\n",
    "map_depth_with_5_df = pd.read_csv(mapDepthWith5FilePath)\n",
    "\n",
    "mapDepthWith10FilePath = '../outputs/map@10.csv'\n",
    "map_depth_with_10_df = pd.read_csv(mapDepthWith10FilePath)\n",
    "\n",
    "mapDepthWith20FilePath = '../outputs/map@20.csv'\n",
    "map_depth_with_20_df = pd.read_csv(mapDepthWith20FilePath)"
   ]
  },
  {
   "cell_type": "code",
   "execution_count": 3,
   "id": "a4af7fbd",
   "metadata": {},
   "outputs": [],
   "source": [
    "# Filtering\n",
    "\n",
    "top_precision_5_system_scores = top_precision_10_df.iloc[-1, 1:].values.astype(float)\n",
    "top_precision_10_system_scores = top_precision_10_df.iloc[-1, 1:].values.astype(float)\n",
    "top_precision_20_system_scores = top_precision_10_df.iloc[-1, 1:].values.astype(float)\n",
    "\n",
    "map_with_depth_5_system_scores = map_depth_with_5_df.iloc[-1, 1:].values.astype(float)\n",
    "map_with_depth_10_system_scores = map_depth_with_10_df.iloc[-1, 1:].values.astype(float)\n",
    "map_with_depth_20_system_scores = map_depth_with_20_df.iloc[-1, 1:].values.astype(float)"
   ]
  },
  {
   "cell_type": "code",
   "execution_count": 4,
   "id": "14de47e4",
   "metadata": {},
   "outputs": [
    {
     "name": "stdout",
     "output_type": "stream",
     "text": [
      "The correlation coefficient indicates the strength and direction of the linear relationship between precision@10 and MAP values.\n",
      "A value close to 1 suggests a strong positive correlation, while a value close to -1 suggests a strong negative correlation.\n",
      "A value close to 0 indicates a weak or no correlation between the two variables.\n",
      "\n",
      "\n",
      "Top Precision: 5\n",
      "Map Depth: 5\n",
      "Correlation Coefficient: 0.98\n",
      "-----\n",
      "Top Precision: 5\n",
      "Map Depth: 10\n",
      "Correlation Coefficient: 0.99\n",
      "-----\n",
      "Top Precision: 5\n",
      "Map Depth: 15\n",
      "Correlation Coefficient: 1.00\n",
      "-----\n",
      "Top Precision: 10\n",
      "Map Depth: 5\n",
      "Correlation Coefficient: 0.98\n",
      "-----\n",
      "Top Precision: 10\n",
      "Map Depth: 10\n",
      "Correlation Coefficient: 0.99\n",
      "-----\n",
      "Top Precision: 10\n",
      "Map Depth: 15\n",
      "Correlation Coefficient: 1.00\n",
      "-----\n",
      "Top Precision: 15\n",
      "Map Depth: 5\n",
      "Correlation Coefficient: 0.98\n",
      "-----\n",
      "Top Precision: 15\n",
      "Map Depth: 10\n",
      "Correlation Coefficient: 0.99\n",
      "-----\n",
      "Top Precision: 15\n",
      "Map Depth: 15\n",
      "Correlation Coefficient: 1.00\n",
      "-----\n"
     ]
    }
   ],
   "source": [
    "# Calculation\n",
    "\n",
    "top_precision_scores = [top_precision_5_system_scores, top_precision_10_system_scores, top_precision_20_system_scores]\n",
    "map_with_depth_scores = [map_with_depth_5_system_scores, map_with_depth_10_system_scores, map_with_depth_20_system_scores]\n",
    "\n",
    "print(\"The correlation coefficient indicates the strength and direction of the linear relationship between precision@10 and MAP values.\")\n",
    "print(\"A value close to 1 suggests a strong positive correlation, while a value close to -1 suggests a strong negative correlation.\")\n",
    "print(\"A value close to 0 indicates a weak or no correlation between the two variables.\\n\\n\")\n",
    "\n",
    "for i, top_precision_scores_arr in enumerate(top_precision_scores):\n",
    "    for j, map_with_depth_scores_arr in enumerate(map_with_depth_scores):\n",
    "        top_precision = (i + 1) * 5\n",
    "        map_depth = (j + 1) * 5\n",
    "        print(\"Top Precision: {}\".format(top_precision))\n",
    "        print(\"Map Depth: {}\".format(map_depth))\n",
    "        correlation_coefficient = np.corrcoef(top_precision_scores_arr, map_with_depth_scores_arr)[0, 1]\n",
    "        print(\"Correlation Coefficient: {:.2f}\".format(correlation_coefficient))\n",
    "        print(\"-----\")\n"
   ]
  }
 ],
 "metadata": {
  "kernelspec": {
   "display_name": "Python 3 (ipykernel)",
   "language": "python",
   "name": "python3"
  },
  "language_info": {
   "codemirror_mode": {
    "name": "ipython",
    "version": 3
   },
   "file_extension": ".py",
   "mimetype": "text/x-python",
   "name": "python",
   "nbconvert_exporter": "python",
   "pygments_lexer": "ipython3",
   "version": "3.10.9"
  }
 },
 "nbformat": 4,
 "nbformat_minor": 5
}
